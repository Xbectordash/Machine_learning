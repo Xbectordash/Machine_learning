{
 "cells": [
  {
   "cell_type": "code",
   "execution_count": 1,
   "id": "b88246b0-aa5d-4e21-aae2-d9163833cbb7",
   "metadata": {},
   "outputs": [
    {
     "ename": "ModuleNotFoundError",
     "evalue": "No module named 'problems'",
     "output_type": "error",
     "traceback": [
      "\u001b[1;31m---------------------------------------------------------------------------\u001b[0m",
      "\u001b[1;31mModuleNotFoundError\u001b[0m                       Traceback (most recent call last)",
      "Cell \u001b[1;32mIn[1], line 2\u001b[0m\n\u001b[0;32m      1\u001b[0m \u001b[38;5;28;01mfrom\u001b[39;00m \u001b[38;5;21;01mfunctools\u001b[39;00m \u001b[38;5;28;01mimport\u001b[39;00m partial\n\u001b[1;32m----> 2\u001b[0m \u001b[38;5;28;01mfrom\u001b[39;00m \u001b[38;5;21;01mproblems\u001b[39;00m \u001b[38;5;28;01mimport\u001b[39;00m knapsack\n\u001b[0;32m      3\u001b[0m \u001b[38;5;28;01mfrom\u001b[39;00m \u001b[38;5;21;01malgorithms\u001b[39;00m \u001b[38;5;28;01mimport\u001b[39;00m bruteforce, genetic\n\u001b[0;32m      4\u001b[0m \u001b[38;5;28;01mfrom\u001b[39;00m \u001b[38;5;21;01mutils\u001b[39;00m\u001b[38;5;21;01m.\u001b[39;00m\u001b[38;5;21;01manalyze\u001b[39;00m \u001b[38;5;28;01mimport\u001b[39;00m timer\n",
      "\u001b[1;31mModuleNotFoundError\u001b[0m: No module named 'problems'"
     ]
    }
   ],
   "source": [
    "from functools import partial\n",
    "from problems import knapsack\n",
    "from algorithms import bruteforce, genetic\n",
    "from utils.analyze import timer\n",
    "\n",
    "things = knapsack.generate_things(22)\n",
    "things = knapsack.second_example\n",
    "\n",
    "weight_limit = 3000\n",
    "\n",
    "print(\"Weight Limit: %dkg\" % weight_limit)\n",
    "print(\"\")\n",
    "print(\"BRUTEFORCE\")\n",
    "print(\"----------\")\n",
    "\n",
    "with timer():\n",
    "\tresult = bruteforce(things, weight_limit)\n",
    "\n",
    "knapsack.print_stats(result[1])\n",
    "\n",
    "print(\"\")\n",
    "print(\"GENETIC ALGORITHM\")\n",
    "print(\"----------\")\n",
    "\n",
    "with timer():\n",
    "\tpopulation, generations = genetic.run_evolution(\n",
    "\t\tpopulate_func=partial(genetic.generate_population, size=10, genome_length=len(things)),\n",
    "\t\tfitness_func=partial(knapsack.fitness, things=things, weight_limit=weight_limit),\n",
    "\t\tfitness_limit=result[0],\n",
    "\t\tgeneration_limit=100\n",
    "\t)\n",
    "\n",
    "sack = knapsack.from_genome(population[0], things)\n",
    "knapsack.print_stats(sack)\n"
   ]
  },
  {
   "cell_type": "code",
   "execution_count": null,
   "id": "917e0f31-7fd7-4442-a2f5-978152d6a22e",
   "metadata": {},
   "outputs": [],
   "source": []
  }
 ],
 "metadata": {
  "kernelspec": {
   "display_name": "Python 3 (ipykernel)",
   "language": "python",
   "name": "python3"
  },
  "language_info": {
   "codemirror_mode": {
    "name": "ipython",
    "version": 3
   },
   "file_extension": ".py",
   "mimetype": "text/x-python",
   "name": "python",
   "nbconvert_exporter": "python",
   "pygments_lexer": "ipython3",
   "version": "3.12.2"
  }
 },
 "nbformat": 4,
 "nbformat_minor": 5
}
